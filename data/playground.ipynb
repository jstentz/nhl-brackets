{
 "cells": [
  {
   "cell_type": "code",
   "execution_count": null,
   "metadata": {},
   "outputs": [],
   "source": [
    "import polars as pl\n",
    "\n",
    "pl.Config.set_tbl_cols(50)\n",
    "pl.Config.set_fmt_str_lengths(20)\n",
    "pl.Config.set_tbl_width_chars(1000)\n",
    "pl.Config.set_tbl_rows(200)"
   ]
  },
  {
   "cell_type": "code",
   "execution_count": null,
   "metadata": {},
   "outputs": [],
   "source": [
    "df = pl.read_parquet('games.parquet')\n",
    "print(df.columns)\n",
    "\n",
    "team1 = 'PIT'\n",
    "team2 = 'BOS'\n",
    "\n",
    "df = df.filter(((pl.col('homeTeam') == team1) | (pl.col('awayTeam') == team1)) & ((pl.col('homeTeam') == team2) | (pl.col('awayTeam') == team2)))\n",
    "df = df.with_columns(\n",
    "  pl.when(pl.col('homeScore') > pl.col('awayScore')).then(pl.col('homeTeam')).otherwise(pl.col('awayTeam')).alias('winner')\n",
    ")\n",
    "df.group_by('winner').len()"
   ]
  },
  {
   "cell_type": "code",
   "execution_count": null,
   "metadata": {},
   "outputs": [],
   "source": [
    "df = pl.read_parquet('games.parquet')\n",
    "\n",
    "df = df.with_columns((pl.col('homePim') + pl.col('awayPim')).abs().alias('pim'))\n",
    "df.sort(pl.col('pim'), descending=True)"
   ]
  },
  {
   "cell_type": "code",
   "execution_count": null,
   "metadata": {},
   "outputs": [],
   "source": [
    "games = pl.read_parquet('games.parquet')\n",
    "team_stats = pl.read_parquet('team_stats.parquet')\n",
    "standings = pl.read_parquet('team_standings.parquet').unnest('teamName').rename({'default': 'teamFullName'})\n",
    "\n",
    "full_team_stats = team_stats.join(standings, on=('seasonId', 'teamFullName'))\n",
    "\n",
    "# need to aggregate regular season stats and playoff stats here"
   ]
  }
 ],
 "metadata": {
  "kernelspec": {
   "display_name": ".venv",
   "language": "python",
   "name": "python3"
  },
  "language_info": {
   "codemirror_mode": {
    "name": "ipython",
    "version": 3
   },
   "file_extension": ".py",
   "mimetype": "text/x-python",
   "name": "python",
   "nbconvert_exporter": "python",
   "pygments_lexer": "ipython3",
   "version": "3.12.6"
  }
 },
 "nbformat": 4,
 "nbformat_minor": 2
}
