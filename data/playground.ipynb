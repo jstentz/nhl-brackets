{
 "cells": [
  {
   "cell_type": "code",
   "execution_count": 1,
   "metadata": {},
   "outputs": [],
   "source": [
    "import polars as pl"
   ]
  },
  {
   "cell_type": "code",
   "execution_count": 23,
   "metadata": {},
   "outputs": [
    {
     "name": "stdout",
     "output_type": "stream",
     "text": [
      "['gameId', 'gameType', 'homeTeam', 'awayTeam', 'homeScore', 'awayScore', 'homeSog', 'awaySog', 'homeFaceoffWinningPctg', 'awayFaceoffWinningPctg', 'homePowerPlay', 'awayPowerPlay', 'homePowerPlayPctg', 'awayPowerPlayPctg', 'homePim', 'awayPim', 'homeHits', 'awayHits', 'homeBlockedShots', 'awayBlockedShots', 'homeGiveaways', 'awayGiveaways', 'homeTakeaways', 'awayTakeaways', 'season']\n"
     ]
    },
    {
     "data": {
      "text/html": [
       "<div><style>\n",
       ".dataframe > thead > tr,\n",
       ".dataframe > tbody > tr {\n",
       "  text-align: right;\n",
       "  white-space: pre-wrap;\n",
       "}\n",
       "</style>\n",
       "<small>shape: (2, 2)</small><table border=\"1\" class=\"dataframe\"><thead><tr><th>winner</th><th>len</th></tr><tr><td>str</td><td>u32</td></tr></thead><tbody><tr><td>&quot;PIT&quot;</td><td>23</td></tr><tr><td>&quot;BOS&quot;</td><td>33</td></tr></tbody></table></div>"
      ],
      "text/plain": [
       "shape: (2, 2)\n",
       "┌────────┬─────┐\n",
       "│ winner ┆ len │\n",
       "│ ---    ┆ --- │\n",
       "│ str    ┆ u32 │\n",
       "╞════════╪═════╡\n",
       "│ PIT    ┆ 23  │\n",
       "│ BOS    ┆ 33  │\n",
       "└────────┴─────┘"
      ]
     },
     "execution_count": 23,
     "metadata": {},
     "output_type": "execute_result"
    }
   ],
   "source": [
    "df = pl.read_parquet('games/games.parquet')\n",
    "print(df.columns)\n",
    "\n",
    "team1 = 'PIT'\n",
    "team2 = 'BOS'\n",
    "\n",
    "df = df.filter(((pl.col('homeTeam') == team1) | (pl.col('awayTeam') == team1)) & ((pl.col('homeTeam') == team2) | (pl.col('awayTeam') == team2)))\n",
    "df = df.with_columns(\n",
    "  pl.when(pl.col('homeScore') > pl.col('awayScore')).then(pl.col('homeTeam')).otherwise(pl.col('awayTeam')).alias('winner')\n",
    ")\n",
    "df.group_by('winner').len()"
   ]
  }
 ],
 "metadata": {
  "kernelspec": {
   "display_name": ".venv",
   "language": "python",
   "name": "python3"
  },
  "language_info": {
   "codemirror_mode": {
    "name": "ipython",
    "version": 3
   },
   "file_extension": ".py",
   "mimetype": "text/x-python",
   "name": "python",
   "nbconvert_exporter": "python",
   "pygments_lexer": "ipython3",
   "version": "3.12.6"
  }
 },
 "nbformat": 4,
 "nbformat_minor": 2
}
