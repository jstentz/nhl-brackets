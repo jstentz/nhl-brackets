{
 "cells": [
  {
   "cell_type": "code",
   "execution_count": 1,
   "metadata": {},
   "outputs": [],
   "source": [
    "from nhlpy.api.query.builder import QueryBuilder, QueryContext, QueryBase\n",
    "from nhlpy.nhl_client import NHLClient\n",
    "from nhlpy.api.query.filters.draft import DraftQuery\n",
    "from nhlpy.api.query.filters.season import SeasonQuery\n",
    "from nhlpy.api.query.filters.game_type import GameTypeQuery\n",
    "from nhlpy.api.query.filters.position import PositionQuery, PositionTypes\n",
    "import polars as pl"
   ]
  },
  {
   "cell_type": "code",
   "execution_count": 2,
   "metadata": {},
   "outputs": [
    {
     "name": "stderr",
     "output_type": "stream",
     "text": [
      "INFO:httpx:HTTP Request: GET https://api.nhle.com/stats/rest/en/skater/summary?isAggregate=true&isGame=false&start=0&limit=25&factCayenneExp=gamesPlayed%3E%3D1&sort=%5B%7B%22property%22%3A+%22points%22%2C+%22direction%22%3A+%22DESC%22%7D%2C+%7B%22property%22%3A+%22gamesPlayed%22%2C+%22direction%22%3A+%22ASC%22%7D%2C+%7B%22property%22%3A+%22playerId%22%2C+%22direction%22%3A+%22ASC%22%7D%5D&cayenneExp=gameTypeId%3D2+and+%28positionCode%3D%27L%27+or+positionCode%3D%27R%27+or+positionCode%3D%27C%27%29 \"HTTP/1.1 200 OK\"\n"
     ]
    },
    {
     "name": "stdout",
     "output_type": "stream",
     "text": [
      "1.24778\n"
     ]
    }
   ],
   "source": [
    "client = NHLClient(verbose=True)\n",
    "\n",
    "filters: list[QueryBase] = [\n",
    "    GameTypeQuery(game_type=\"2\"),\n",
    "    # DraftQuery(year=\"2020\", draft_round=\"2\"),\n",
    "    # SeasonQuery(season_start=\"20012002\", season_end=\"20242025\"),\n",
    "    PositionQuery(position=PositionTypes.ALL_FORWARDS),\n",
    "]\n",
    "\n",
    "query_builder = QueryBuilder()\n",
    "query_context: QueryContext = query_builder.build(filters=filters)\n",
    "\n",
    "data = client.stats.skater_stats_with_query_context(\n",
    "    report_type='summary',\n",
    "    query_context=query_context,\n",
    "    aggregate=True\n",
    ")\n",
    "\n",
    "data = pl.DataFrame(data['data'])\n",
    "\n",
    "crosby = data.filter(pl.col('skaterFullName') == 'Sidney Crosby')\n",
    "\n",
    "ppg = crosby.select('pointsPerGame').item()\n",
    "print(ppg)"
   ]
  }
 ],
 "metadata": {
  "kernelspec": {
   "display_name": ".venv",
   "language": "python",
   "name": "python3"
  },
  "language_info": {
   "codemirror_mode": {
    "name": "ipython",
    "version": 3
   },
   "file_extension": ".py",
   "mimetype": "text/x-python",
   "name": "python",
   "nbconvert_exporter": "python",
   "pygments_lexer": "ipython3",
   "version": "3.12.6"
  }
 },
 "nbformat": 4,
 "nbformat_minor": 2
}
