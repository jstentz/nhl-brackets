{
 "cells": [
  {
   "cell_type": "code",
   "execution_count": null,
   "metadata": {},
   "outputs": [],
   "source": [
    "from nhlpy.api.query.builder import QueryBuilder, QueryContext, QueryBase\n",
    "from nhlpy.nhl_client import NHLClient\n",
    "from nhlpy.api.query.filters.draft import DraftQuery\n",
    "from nhlpy.api.query.filters.season import SeasonQuery\n",
    "from nhlpy.api.query.filters.game_type import GameTypeQuery\n",
    "from nhlpy.api.query.filters.position import PositionQuery, PositionTypes\n",
    "import polars as pl\n",
    "\n",
    "pl.Config.set_tbl_cols(50)\n",
    "pl.Config.set_fmt_str_lengths(20)\n",
    "pl.Config.set_tbl_width_chars(100)\n",
    "pl.Config.set_tbl_rows(200)\n",
    "pl.Config.set_tbl_formatting('NOTHING')\n",
    "pl.Config.set_tbl_column_data_type_inline(True)  \n",
    "pl.Config.set_tbl_dataframe_shape_below(True) "
   ]
  },
  {
   "cell_type": "code",
   "execution_count": null,
   "metadata": {},
   "outputs": [],
   "source": [
    "client = NHLClient(verbose=False)"
   ]
  },
  {
   "cell_type": "code",
   "execution_count": null,
   "metadata": {},
   "outputs": [],
   "source": [
    "# Example player query\n",
    "filters: list[QueryBase] = [\n",
    "    GameTypeQuery(game_type=\"2\"),\n",
    "    # DraftQuery(year=\"2020\", draft_round=\"2\"),\n",
    "    SeasonQuery(season_start=\"20242025\", season_end=\"20242025\"),\n",
    "    PositionQuery(position=PositionTypes.ALL_FORWARDS),\n",
    "]\n",
    "\n",
    "query_builder = QueryBuilder()\n",
    "query_context: QueryContext = query_builder.build(filters=filters)\n",
    "\n",
    "data = client.stats.skater_stats_with_query_context(\n",
    "    report_type='summary',\n",
    "    query_context=query_context,\n",
    "    aggregate=True\n",
    ")\n",
    "\n",
    "data = pl.DataFrame(data['data'])\n",
    "\n",
    "crosby = data.filter(pl.col('skaterFullName') == 'Sidney Crosby')\n",
    "\n",
    "ppg = crosby.select('pointsPerGame').item()\n",
    "print(ppg)"
   ]
  },
  {
   "cell_type": "code",
   "execution_count": null,
   "metadata": {},
   "outputs": [],
   "source": [
    "# Dealing with 'start' + 'limit' args is annoying here, so we just query by season\n",
    "start_season: int = 2010\n",
    "end_season: int = 2024\n",
    "seasons: list[str] = [f'{season}{season+1}' for season in range(start_season, end_season + 1)]"
   ]
  },
  {
   "cell_type": "code",
   "execution_count": null,
   "metadata": {},
   "outputs": [],
   "source": [
    "# Example aggregate team data -- not too much info here honestly\n",
    "dfs = [ ]\n",
    "for season in seasons:\n",
    "  data = client.stats.team_summary(season, season, is_aggregate=False, limit=100) \n",
    "  dfs.append(pl.DataFrame(data))\n",
    "team_stats: pl.DataFrame = pl.concat(dfs)"
   ]
  },
  {
   "cell_type": "code",
   "execution_count": null,
   "metadata": {},
   "outputs": [],
   "source": [
    "# Example team standings -- this gives us some more information\n",
    "dfs = [ ]\n",
    "for season in seasons:\n",
    "  # For some reason I have to use 'now' for 2024\n",
    "  data = client.standings.get_standings(season=season)['standings'] if season != '20242025' else client.standings.get_standings(date='now')['standings']\n",
    "  df = pl.DataFrame(data)\n",
    "  dfs.append(df)\n",
    "team_standings: pl.DataFrame = pl.concat(dfs, how='diagonal') # need diagonal since not all columns are available for every season -- may want to filter columns with missing data\n",
    "team_standings\n"
   ]
  },
  {
   "cell_type": "code",
   "execution_count": null,
   "metadata": {},
   "outputs": [],
   "source": [
    "# Get only playoff teams this year\n",
    "standings = client.standings.get_standings(date='now')['standings']\n",
    "playoff_teams: list[str] = [team['teamAbbrev']['default'] for team in standings if team['clinchIndicator'] != 'e']"
   ]
  },
  {
   "cell_type": "code",
   "execution_count": null,
   "metadata": {},
   "outputs": [],
   "source": [
    "schedule = client.schedule.get_season_schedule('PIT', '20172018')['games']\n",
    "playoff = [game for game in schedule if game['gameType'] == 3]\n",
    "len(playoff)\n"
   ]
  },
  {
   "cell_type": "code",
   "execution_count": null,
   "metadata": {},
   "outputs": [],
   "source": [
    "# Game data\n",
    "season = '20242025'\n",
    "standings = client.standings.get_standings(season=season)['standings'] if season != '20242025' else client.standings.get_standings(date='now')['standings']\n",
    "teams: list[str] = [team['teamAbbrev']['default'] for team in standings]\n",
    "\n",
    "# make sure we don't query the same game twice\n",
    "seen_game_ids: set[int] = set()\n",
    "\n",
    "for team in teams:\n",
    "    print(season, team)\n",
    "    games: list[dict] = client.schedule.get_season_schedule(team, season)['games']\n",
    "\n",
    "    # Get information about a game\n",
    "    games: list[dict] = [ ]\n",
    "    for game in games:\n",
    "        game_id: int = game['id']\n",
    "        game_type: int = game['gameType']\n",
    "\n",
    "        # only care about playoff and regular season\n",
    "        if game_type != 2 and game_type != 3:\n",
    "            continue\n",
    "\n",
    "        if game_id in seen_game_ids:\n",
    "            continue\n",
    "\n",
    "        seen_game_ids.add(game_id)\n",
    "        data = client.game_center.game_story(game_id)\n",
    "        team_summary = data['summary']['teamGameStats']\n",
    "\n",
    "        # Make stuff easier to parse\n",
    "        row = {}\n",
    "        row['gameId'] = game_id\n",
    "        row['gameType'] = game_type\n",
    "        row['homeTeam'] = data['homeTeam']['abbrev']\n",
    "        row['awayTeam'] = data['awayTeam']['abbrev']\n",
    "        row['homeScore'] = data['homeTeam']['score']\n",
    "        row['awayScore'] = data['awayTeam']['score']\n",
    "\n",
    "        for item in team_summary:\n",
    "            category = item[\"category\"]\n",
    "            row[f\"home{category[0].upper()}{category[1:]}\"] = item[\"homeValue\"]\n",
    "            row[f\"away{category[0].upper()}{category[1:]}\"] = item[\"awayValue\"]\n",
    "\n",
    "        games.append(row)\n",
    "\n",
    "game_stats = pl.DataFrame(games, strict=False)\n",
    "\n"
   ]
  }
 ],
 "metadata": {
  "kernelspec": {
   "display_name": ".venv",
   "language": "python",
   "name": "python3"
  },
  "language_info": {
   "codemirror_mode": {
    "name": "ipython",
    "version": 3
   },
   "file_extension": ".py",
   "mimetype": "text/x-python",
   "name": "python",
   "nbconvert_exporter": "python",
   "pygments_lexer": "ipython3",
   "version": "3.12.6"
  }
 },
 "nbformat": 4,
 "nbformat_minor": 2
}
